{
 "cells": [
  {
   "cell_type": "markdown",
   "metadata": {},
   "source": [
    "# Building a Dataset\n",
    "If you already have a dataset you're applying the content in this book to, you can skip this section!  I'll walk through how I created this dummy data using randomization and forced distributions.  There will be some coding principles applied here.  If you’re using this book as a means to improve your general coding skills, I’d encourage you to follow this section more closely as it will get into creating your own functions, specifically calling out how to do it in a way that you don’t have to dig through all your code and find where you hard coded numbers.  If you’re reading through this to understand the specific People Analytics applications or as an HR leader looking to know what is possible, I have saved the output from this to the repository, so you can access it there without having to create your own version (you can also skip this section).\n",
    "\n",
    "Given the sensitivity of HR data, most companies aren’t jumping at the opportunity to throw their employee data onto the internet for all to use.  Having searched for various datasets online, all were snapshots of their employees rather than a historical record accounting for promotions or specific termination dates.  While the extra complexity isn’t ideal, it can make for good learning opportunities in writing your coding and better understanding how generating random numbers can be leveraged to improve your capabilities!\n",
    "\n",
    "If you make it through the end of this chapter, you'll see how nice it is to have existing datasets that you can leverage.  From the technical aspect, this chapter took the longest time to write the code for because there are a lot of considerations that have to be worked through to ensure you're generating a generally accurate and useful dateset for modeling."
   ]
  },
  {
   "cell_type": "markdown",
   "metadata": {},
   "source": [
    "#### Fake Company Backstory\n",
    "The company we are creating is a medium sized management consulting company that started in 2005.  They have 3 departments: Technology, Account/Client Management, and Corporate Admin (HR, Finance, etc).  The company started with a total of 12,500 employees at the beginning of 2018.  Based on the HR Business Partner’s experienced and feedback from the business, there is a concern that females and younger employees turnover at a higher rate.  Will our turnover prediction model show what the HRBP’s are saying?"
   ]
  },
  {
   "cell_type": "markdown",
   "metadata": {},
   "source": [
    "#### Import Necessary Packages\n",
    "Throughout this book, you'll see the common theme of loading the packages at the beginning of your code.  This makes it easier for your to go back as you're developing your solution to know what libraries you've loaded.  Sometimes are you're writing code you'll try something with a package and it won't work/be needed in your final solution (that is normal and okay!).  Since that package isn't in your final solution, you don't want to keep it as a dependency in your code, so you want to delete the import statement.  Rather than digging through all your code, you can go to the top and find the import code and delete it."
   ]
  },
  {
   "cell_type": "code",
   "execution_count": 1,
   "metadata": {},
   "outputs": [],
   "source": [
    "import pandas as pd\n",
    "import numpy as np\n",
    "from matplotlib import pyplot as plt\n",
    "import datetime\n",
    "from datetime import timedelta"
   ]
  },
  {
   "cell_type": "markdown",
   "metadata": {},
   "source": [
    "#### Setting our variables\n",
    "As I stated in the intro to this chapter, we will be using some coding best practices.  In this area, we will define all of our distributions so when/if we want to make adjustments to our distributions we can do so in one place rather than throughout our code.  This will save time and reduce the opportunity for a manual error where we forget to make a change somewhere.\n",
    "\n",
    "These numbers we will be used with a random number generator, so each time you run this process you will get a different result. If we set our seed number, we can control for this, however we are less concerned about reproducability here.\n",
    "\n",
    "Note: with this many variables to define, a config (configuration) file would likely be the most efficient approach.  However, for the sake of this example I am writing out each variable to help with the readability of our code when creating the dataset."
   ]
  },
  {
   "cell_type": "code",
   "execution_count": 2,
   "metadata": {},
   "outputs": [],
   "source": [
    "#total employee count\n",
    "emps_2018 = 12500\n",
    "\n",
    "#new hire rate per year\n",
    "new_hire_rate = 0.15\n",
    "\n",
    "min_age = 21\n",
    "max_age = 65\n",
    "\n",
    "#employee distributions by department\n",
    "tech = 0.6\n",
    "client_mgmt = 0.9\n",
    "admin = 1\n",
    "\n",
    "#gender distribution by department\n",
    "tech_male = 0.65\n",
    "client_mgmt_male = 0.55\n",
    "admin_male = 0.45\n",
    "\n",
    "#individual contributor by department\n",
    "tech_ic = 0.6\n",
    "client_mgmt_ic = 0.5\n",
    "admin_ic = 0.4\n",
    "\n",
    "#manager by department\n",
    "tech_mgr = 0.8\n",
    "client_mgmt_mgr = 0.75\n",
    "admin_mgr = 0.8\n",
    "\n",
    "#senior leader by department\n",
    "tech_sl = 0.9\n",
    "client_mgmt_sl = 0.95\n",
    "admin_sl = 0.95\n",
    "\n",
    "#executive by department\n",
    "tech_exec = 1\n",
    "client_mgmt_exec = 1\n",
    "admin_exec = 1"
   ]
  },
  {
   "cell_type": "markdown",
   "metadata": {},
   "source": [
    "#### Creating each employee\n",
    "One of the biggest problems with generating “fake” data is getting the appropriate distributions and relationships between variables.  The order in which we execute each step will be important as some of these variables build on each other. To do this, we will start with the demographic information about individuals using our forced distributions.\n",
    "\n",
    "We'll utilize a for loop and have it iterate over the number of employees we want to define.  Using the random number function in numpy, we will reference our distributions above to determine how many employees are in each department.  Using empty lists and appending values to them is a common practice when writing code.  If you are looking to enhance your coding skillset, I'd recommend becoming familiar with this concept."
   ]
  },
  {
   "cell_type": "code",
   "execution_count": 3,
   "metadata": {},
   "outputs": [],
   "source": [
    "#create our empty lists, this will allow us to append values into these lists\n",
    "departments = []\n",
    "employee_numbers = []\n",
    "\n",
    "for emp in range(0, emps_2018):\n",
    "    #generate random number\n",
    "    random_number = np.random.random()\n",
    "    \n",
    "    #put employee number into list\n",
    "    employee_numbers.append(emp)\n",
    "    \n",
    "    #use random number to determine which value to append to the departments list\n",
    "    #after this finished, it will be a list of the same number of employees you defined\n",
    "    if random_number <= tech:\n",
    "        departments.append(\"Technology\")\n",
    "    elif ((random_number > tech) and (random_number <= client_mgmt)):\n",
    "        departments.append(\"Account/Client Management\")\n",
    "    else:\n",
    "        departments.append(\"Corporate Admin (HR, Finance, etc)\")\n"
   ]
  },
  {
   "cell_type": "code",
   "execution_count": 4,
   "metadata": {},
   "outputs": [
    {
     "name": "stdout",
     "output_type": "stream",
     "text": [
      "Technology:  7560\n",
      "Account/Client Management:  3696\n",
      "Corporate Admin (HR, Finance, etc):  1244\n"
     ]
    }
   ],
   "source": [
    "print(\"Technology: \", departments.count(\"Technology\"))\n",
    "print(\"Account/Client Management: \", departments.count(\"Account/Client Management\"))\n",
    "print(\"Corporate Admin (HR, Finance, etc): \", departments.count(\"Corporate Admin (HR, Finance, etc)\"))"
   ]
  },
  {
   "cell_type": "markdown",
   "metadata": {},
   "source": [
    "We've just created the start of our employee records.  We have defined which departments they are in.  You can see the counts for each value above.  As we have specified, we see the technology department being the largest, followed by Account/Client Management, and then the Corporate Admin functions.\n",
    "\n",
    "Now that we have each employee's record and their department, we will define their gender based on the department specific gender distributions defined above."
   ]
  },
  {
   "cell_type": "code",
   "execution_count": 5,
   "metadata": {},
   "outputs": [],
   "source": [
    "#create an empty list to put our gender values\n",
    "genders = []\n",
    "\n",
    "for emp_department in departments:\n",
    "    random_number = np.random.random()\n",
    "    \n",
    "    #this time we need a nested if statement\n",
    "    #this allows us to have the different distributions for each department\n",
    "    if emp_department == \"Technology\":\n",
    "        if random_number <= tech_male:\n",
    "            genders.append(\"Male\")\n",
    "        else:\n",
    "            genders.append(\"Female\")\n",
    "    elif emp_department == \"Account/Client Management\":\n",
    "        if random_number <= client_mgmt_male:\n",
    "            genders.append(\"Male\")\n",
    "        else:\n",
    "            genders.append(\"Female\")\n",
    "    else:\n",
    "        if random_number <= admin_male:\n",
    "            genders.append(\"Male\")\n",
    "        else:\n",
    "            genders.append(\"Female\")"
   ]
  },
  {
   "cell_type": "code",
   "execution_count": 6,
   "metadata": {},
   "outputs": [
    {
     "name": "stdout",
     "output_type": "stream",
     "text": [
      "Male:  7498\n",
      "Female:  5002\n"
     ]
    }
   ],
   "source": [
    "print(\"Male: \", genders.count(\"Male\"))\n",
    "print(\"Female: \", genders.count(\"Female\"))"
   ]
  },
  {
   "cell_type": "markdown",
   "metadata": {},
   "source": [
    "We've now create the gender for all of our employees based on the distributions we defined by department.\n",
    "\n",
    "Now we need to create the job level for department.  This is very similar to how we created gender."
   ]
  },
  {
   "cell_type": "code",
   "execution_count": 7,
   "metadata": {},
   "outputs": [],
   "source": [
    "job_level = []\n",
    "\n",
    "for emp_department in departments:\n",
    "    random_number = np.random.random()\n",
    "    if emp_department == \"Technology\":\n",
    "        if random_number <= tech_ic:\n",
    "            job_level.append(\"Individual Contributor\")\n",
    "        elif (random_number > tech_ic) and (random_number <= tech_mgr):\n",
    "            job_level.append(\"Manager\")\n",
    "        elif (random_number > tech_mgr) and (random_number <= tech_sl):\n",
    "            job_level.append(\"Senior Leader\")\n",
    "        else:\n",
    "            job_level.append(\"Executive\")\n",
    "    elif emp_department == \"Account/Client Management\":\n",
    "        if random_number <= client_mgmt_ic:\n",
    "            job_level.append(\"Individual Contributor\")\n",
    "        elif (random_number > client_mgmt_ic) and (random_number <= client_mgmt_mgr):\n",
    "            job_level.append(\"Manager\")\n",
    "        elif (random_number > client_mgmt_mgr) and (random_number <= client_mgmt_sl):\n",
    "            job_level.append(\"Senior Leader\")\n",
    "        else:\n",
    "            job_level.append(\"Executive\")\n",
    "    else:\n",
    "        if random_number <= admin_ic:\n",
    "            job_level.append(\"Individual Contributor\")\n",
    "        elif (random_number > admin_ic) and (random_number <= admin_mgr):\n",
    "            job_level.append(\"Manager\")\n",
    "        elif (random_number > admin_mgr) and (random_number <= admin_sl):\n",
    "            job_level.append(\"Senior Leader\")\n",
    "        else:\n",
    "            job_level.append(\"Executive\")"
   ]
  },
  {
   "cell_type": "code",
   "execution_count": 8,
   "metadata": {},
   "outputs": [
    {
     "name": "stdout",
     "output_type": "stream",
     "text": [
      "Individual Contributor:  6925\n",
      "Manager:  2844\n",
      "Senior Leader:  1713\n",
      "Executive:  1018\n"
     ]
    }
   ],
   "source": [
    "print(\"Individual Contributor: \", job_level.count(\"Individual Contributor\"))\n",
    "print(\"Manager: \", job_level.count(\"Manager\"))\n",
    "print(\"Senior Leader: \", job_level.count(\"Senior Leader\"))\n",
    "print(\"Executive: \", job_level.count(\"Executive\"))"
   ]
  },
  {
   "cell_type": "markdown",
   "metadata": {},
   "source": [
    "So now we have 4 seperate lists.  Since most people think in terms of spreadsheets, you're probably thinking \"4 lists aren't very useful\".  Fear not, we can put these lists into a dataframe, making these lists our columns.\n",
    "\n",
    "First we need to put all of our lists together using the zip() function.  This will put our lists together so the Pandas dataframe function will know how to turn our lists into columns."
   ]
  },
  {
   "cell_type": "code",
   "execution_count": 9,
   "metadata": {},
   "outputs": [
    {
     "data": {
      "text/html": [
       "<div>\n",
       "<style scoped>\n",
       "    .dataframe tbody tr th:only-of-type {\n",
       "        vertical-align: middle;\n",
       "    }\n",
       "\n",
       "    .dataframe tbody tr th {\n",
       "        vertical-align: top;\n",
       "    }\n",
       "\n",
       "    .dataframe thead th {\n",
       "        text-align: right;\n",
       "    }\n",
       "</style>\n",
       "<table border=\"1\" class=\"dataframe\">\n",
       "  <thead>\n",
       "    <tr style=\"text-align: right;\">\n",
       "      <th></th>\n",
       "      <th>employee_id</th>\n",
       "      <th>department</th>\n",
       "      <th>gender</th>\n",
       "      <th>job_level</th>\n",
       "    </tr>\n",
       "  </thead>\n",
       "  <tbody>\n",
       "    <tr>\n",
       "      <th>0</th>\n",
       "      <td>0</td>\n",
       "      <td>Account/Client Management</td>\n",
       "      <td>Male</td>\n",
       "      <td>Individual Contributor</td>\n",
       "    </tr>\n",
       "    <tr>\n",
       "      <th>1</th>\n",
       "      <td>1</td>\n",
       "      <td>Technology</td>\n",
       "      <td>Male</td>\n",
       "      <td>Individual Contributor</td>\n",
       "    </tr>\n",
       "    <tr>\n",
       "      <th>2</th>\n",
       "      <td>2</td>\n",
       "      <td>Account/Client Management</td>\n",
       "      <td>Male</td>\n",
       "      <td>Individual Contributor</td>\n",
       "    </tr>\n",
       "    <tr>\n",
       "      <th>3</th>\n",
       "      <td>3</td>\n",
       "      <td>Account/Client Management</td>\n",
       "      <td>Male</td>\n",
       "      <td>Individual Contributor</td>\n",
       "    </tr>\n",
       "    <tr>\n",
       "      <th>4</th>\n",
       "      <td>4</td>\n",
       "      <td>Account/Client Management</td>\n",
       "      <td>Male</td>\n",
       "      <td>Individual Contributor</td>\n",
       "    </tr>\n",
       "  </tbody>\n",
       "</table>\n",
       "</div>"
      ],
      "text/plain": [
       "   employee_id                 department gender               job_level\n",
       "0            0  Account/Client Management   Male  Individual Contributor\n",
       "1            1                 Technology   Male  Individual Contributor\n",
       "2            2  Account/Client Management   Male  Individual Contributor\n",
       "3            3  Account/Client Management   Male  Individual Contributor\n",
       "4            4  Account/Client Management   Male  Individual Contributor"
      ]
     },
     "execution_count": 9,
     "metadata": {},
     "output_type": "execute_result"
    }
   ],
   "source": [
    "combined_lists = zip(employee_numbers, departments, genders, job_level)\n",
    "\n",
    "df_emp_working = pd.DataFrame(combined_lists, columns = ['employee_id', 'department', 'gender', 'job_level'])\n",
    "\n",
    "df_emp_working.head()"
   ]
  },
  {
   "cell_type": "markdown",
   "metadata": {},
   "source": [
    "Ta da! Our lists are now in the same dataframe.  A common concern I have seen others have with this approach is \"how don't the rows get all mixed up/how do you know the right rows are coming together?\".  In the world of vlookups or SQL joins, this is an understandable concern, however lets break down what we just did.  We created 4 lists that are based off of each other.  The key piece to this is we didn't change the order of our lists, which is why we can simply put them together as columns rather than joining on a unique ID.  If you're thinking in Excel terms, we copied and pasted different data together that has the same order and length into the same sheet.\n",
    "\n",
    "With that done, now we have to incorporate our configuration file that utilizes this demographic information to create realistic trends that our model can hopefully find!  To do that, we need to load in the configuration file.  This is available in the repository if you're following this as a tutorial.\n",
    "\n",
    "The config file has two types of distributions.  The first is similar to how we generated the employee department, gender, and job level.  We use a random number to compare it with our defined distributions to generate the value.  The second goes one step further and randomly selects a value between two values."
   ]
  },
  {
   "cell_type": "markdown",
   "metadata": {},
   "source": [
    "## Creating Data with Config File"
   ]
  },
  {
   "cell_type": "code",
   "execution_count": 10,
   "metadata": {},
   "outputs": [
    {
     "name": "stdout",
     "output_type": "stream",
     "text": [
      "               metric          employee_level rating  probability  value\n",
      "0  Performance Rating  Individual Contributor    one         0.05    NaN\n",
      "1  Performance Rating  Individual Contributor    two         0.15    NaN\n",
      "2  Performance Rating  Individual Contributor  three         0.55    NaN\n",
      "3  Performance Rating  Individual Contributor   four         0.85    NaN\n",
      "4  Performance Rating  Individual Contributor   five         1.00    NaN\n",
      "        metric          employee_level rating  probability  value\n",
      "87  Promotions               Executive      4         0.02    NaN\n",
      "88  Promotions  Individual Contributor      5         0.20    NaN\n",
      "89  Promotions                 Manager      5         0.17    NaN\n",
      "90  Promotions           Senior Leader      5         0.15    NaN\n",
      "91  Promotions               Executive      5         0.10    NaN\n"
     ]
    }
   ],
   "source": [
    "config = pd.read_excel('generate_dataset_config.xlsx')\n",
    "\n",
    "print(config.head())\n",
    "print(config.tail())"
   ]
  },
  {
   "cell_type": "markdown",
   "metadata": {},
   "source": [
    "With our config file loaded, I'll explain at a high level how we will use this file.\n",
    "\n",
    "We will be filtering on the columns to come down to a single value that we can use.  This is in place of manually defining each of these variables like we did to create the department, gender, and job level.  It will become a bit more clear when we get into the code, however you should see the efficiencies in this config file approach.\n",
    "\n",
    "For those with more coding experience, you may be questioning why I didn't loop through each of the metrics.  I am leaving some programming efficiencies on the table for the sake of making the code easier to read."
   ]
  },
  {
   "cell_type": "code",
   "execution_count": 11,
   "metadata": {},
   "outputs": [],
   "source": [
    "#creating list of our metrics that are defined in the same way\n",
    "performance = []\n",
    "\n",
    "for emp in df_emp_working['job_level']:\n",
    "    random_number = np.random.random()\n",
    "    \n",
    "    #creating a temporary dataframe to filter our config file to what we need in each iteration\n",
    "    temp_df = config[(config['metric'] == 'Performance Rating') & (config['employee_level'] == emp)]\n",
    "    \n",
    "    if temp_df[temp_df['rating'] == \"one\"]['probability'].iloc[0] >= random_number:\n",
    "        performance.append(1)\n",
    "    elif temp_df[temp_df['rating'] == \"two\"]['probability'].iloc[0] > random_number:\n",
    "        performance.append(2)\n",
    "    elif temp_df[temp_df['rating'] == \"three\"]['probability'].iloc[0] > random_number:\n",
    "        performance.append(3)\n",
    "    elif temp_df[temp_df['rating'] == \"four\"]['probability'].iloc[0] > random_number:\n",
    "        performance.append(4)\n",
    "    elif temp_df[temp_df['rating'] == \"five\"]['probability'].iloc[0] >= random_number:\n",
    "        performance.append(5)"
   ]
  },
  {
   "cell_type": "markdown",
   "metadata": {},
   "source": [
    "To give us an idea of the performance distribution, lets do a basic histogram of our performance data.  As you would typically see, there performance ratings for our data will have a left skew.  This means average performance rating is higher than we the true average of the range.\n",
    "\n",
    "I personally find visualizing data with R or Python more difficult, especially when it comes to basic charts like histograms, bar graphs, etc.  However, some of these basic charts can be quite useful when doing analysis.  Rather than exporting out into Excel or even going further and exporting to Excel and putting it into Tableau or PowerBI, you can get a basic histogram like the below in 2 lines of pretty simple code."
   ]
  },
  {
   "cell_type": "code",
   "execution_count": 12,
   "metadata": {},
   "outputs": [
    {
     "data": {
      "image/png": "[encoded data removed]",
      "text/plain": [
       "<Figure size 432x288 with 1 Axes>"
      ]
     },
     "metadata": {
      "needs_background": "light"
     },
     "output_type": "display_data"
    }
   ],
   "source": [
    "plt.hist(performance)\n",
    "plt.show()"
   ]
  },
  {
   "cell_type": "markdown",
   "metadata": {},
   "source": [
    "Doing the same thing for engagement that we just did for performance."
   ]
  },
  {
   "cell_type": "code",
   "execution_count": 13,
   "metadata": {},
   "outputs": [],
   "source": [
    "engagement = []\n",
    "\n",
    "for emp in df_emp_working['job_level']:\n",
    "    random_number = np.random.random()\n",
    "    \n",
    "    #creating a temporary dataframe to filter our config file to what we need in each iteration\n",
    "    temp_df = config[(config['metric'] == 'Engagement') & (config['employee_level'] == emp)]\n",
    "    \n",
    "    if temp_df[temp_df['rating'] == \"one\"]['probability'].iloc[0] >= random_number:\n",
    "        engagement.append(1)\n",
    "    elif temp_df[temp_df['rating'] == \"two\"]['probability'].iloc[0] > random_number:\n",
    "        engagement.append(2)\n",
    "    elif temp_df[temp_df['rating'] == \"three\"]['probability'].iloc[0] > random_number:\n",
    "        engagement.append(3)\n",
    "    elif temp_df[temp_df['rating'] == \"four\"]['probability'].iloc[0] > random_number:\n",
    "        engagement.append(4)\n",
    "    elif temp_df[temp_df['rating'] == \"five\"]['probability'].iloc[0] >= random_number:\n",
    "        engagement.append(5)"
   ]
  },
  {
   "cell_type": "markdown",
   "metadata": {},
   "source": [
    "Also making a histogram for our engagement distribution.  We see the distribution leans towards the book ends, suggesting there are a number of engagement employees and a number of unengaged employees."
   ]
  },
  {
   "cell_type": "code",
   "execution_count": 14,
   "metadata": {},
   "outputs": [
    {
     "data": {
      "image/png": "[encoded data removed]",
      "text/plain": [
       "<Figure size 432x288 with 1 Axes>"
      ]
     },
     "metadata": {
      "needs_background": "light"
     },
     "output_type": "display_data"
    }
   ],
   "source": [
    "plt.hist(engagement)\n",
    "plt.show()"
   ]
  },
  {
   "cell_type": "markdown",
   "metadata": {},
   "source": [
    "How we calculate salary and tenure will be slightly different as I mentioned above.  Rather than having one level of randomization, we're adding a second layer.  This is because the range of values for salary and tenure is quite a bit larger than our 1-5 scales of performance and engagement.  We have \"lower\" and \"higher\" ranges defined in our config file.  The first layer of randomization will select if the higher or lower range will be used.  Once the range is specified, a random number will be generated within that range.  This will provide us a more custom distribution to account for the differences we may see in the salary of the employees at different levels of the company."
   ]
  },
  {
   "cell_type": "code",
   "execution_count": 15,
   "metadata": {},
   "outputs": [],
   "source": [
    "salary = []\n",
    "\n",
    "for emp in df_emp_working['job_level']:\n",
    "    random_number = np.random.random()\n",
    "    temp_df = config[(config['metric'] == 'Salary') & (config['employee_level'] == emp)]\n",
    "    if temp_df['probability'].max() <= random_number:\n",
    "        lower_number = temp_df[temp_df['rating'] == 'lower min']['value'].iloc[0]\n",
    "        upper_number = temp_df[temp_df['rating'] == 'lower max']['value'].iloc[0]\n",
    "        random_salary = np.random.randint(lower_number, upper_number)\n",
    "        salary.append(random_salary)\n",
    "    else:\n",
    "        lower_number = temp_df[temp_df['rating'] == 'higher min']['value'].iloc[0]\n",
    "        upper_number = temp_df[temp_df['rating'] == 'higher max']['value'].iloc[0]\n",
    "        random_salary = np.random.randint(lower_number, upper_number)\n",
    "        salary.append(random_salary)"
   ]
  },
  {
   "cell_type": "code",
   "execution_count": 16,
   "metadata": {},
   "outputs": [
    {
     "data": {
      "image/png": "[encoded data removed]",
      "text/plain": [
       "<Figure size 432x288 with 1 Axes>"
      ]
     },
     "metadata": {
      "needs_background": "light"
     },
     "output_type": "display_data"
    }
   ],
   "source": [
    "plt.hist(salary, bins=50)\n",
    "plt.show()"
   ]
  },
  {
   "cell_type": "markdown",
   "metadata": {},
   "source": [
    "As would be expected, we see a significant right skew with the employee salaries.  A small number of employees make large salaries while most make much smaller salaries.\n",
    "\n",
    "Now onto tenure!"
   ]
  },
  {
   "cell_type": "code",
   "execution_count": 17,
   "metadata": {},
   "outputs": [],
   "source": [
    "tenure = []\n",
    "\n",
    "for emp in df_emp_working['job_level']:\n",
    "    random_number = np.random.random()\n",
    "    temp_df = config[(config['metric'] == 'Tenure') & (config['employee_level'] == emp)]\n",
    "    if temp_df['probability'].max() <= random_number:\n",
    "        lower_number = temp_df[temp_df['rating'] == 'lower min']['value'].iloc[0]\n",
    "        upper_number = temp_df[temp_df['rating'] == 'lower max']['value'].iloc[0]\n",
    "        random_tenure = np.random.randint(lower_number, upper_number)\n",
    "        tenure.append(random_tenure)\n",
    "    else:\n",
    "        lower_number = temp_df[temp_df['rating'] == 'higher min']['value'].iloc[0]\n",
    "        upper_number = temp_df[temp_df['rating'] == 'higher max']['value'].iloc[0]\n",
    "        random_tenure = np.random.randint(lower_number, upper_number)\n",
    "        tenure.append(random_tenure)"
   ]
  },
  {
   "cell_type": "code",
   "execution_count": 18,
   "metadata": {},
   "outputs": [
    {
     "data": {
      "image/png": "[encoded data removed]",
      "text/plain": [
       "<Figure size 432x288 with 1 Axes>"
      ]
     },
     "metadata": {
      "needs_background": "light"
     },
     "output_type": "display_data"
    }
   ],
   "source": [
    "plt.hist(tenure)\n",
    "plt.show()"
   ]
  },
  {
   "cell_type": "markdown",
   "metadata": {},
   "source": [
    "As is the case with most companies, you see a lot of lower tenured employees and fewer more tenure employees.\n",
    "\n",
    "Now that we have created a few additional columns, let's add our lists as columns into our dataframe we created with our other lists.  This requires an additional step to bring our dataframes together.  So first, we take our 4 new lists and make them into a dataframe, then we can use the concat() function in Pandas.  The axis parameter is one that is quite simple once you're given an explanation.  When set to 0, it will be row-wise, or stack the dataframes on top of each other making your dataframe longer.  In R, this is done with the rbind() function.  When set to 1, it will be column-wise, or put the columns together vertically, making your dataframe wider.  In R, this done with the cbind() function."
   ]
  },
  {
   "cell_type": "code",
   "execution_count": 19,
   "metadata": {},
   "outputs": [
    {
     "data": {
      "text/html": [
       "<div>\n",
       "<style scoped>\n",
       "    .dataframe tbody tr th:only-of-type {\n",
       "        vertical-align: middle;\n",
       "    }\n",
       "\n",
       "    .dataframe tbody tr th {\n",
       "        vertical-align: top;\n",
       "    }\n",
       "\n",
       "    .dataframe thead th {\n",
       "        text-align: right;\n",
       "    }\n",
       "</style>\n",
       "<table border=\"1\" class=\"dataframe\">\n",
       "  <thead>\n",
       "    <tr style=\"text-align: right;\">\n",
       "      <th></th>\n",
       "      <th>employee_id</th>\n",
       "      <th>department</th>\n",
       "      <th>gender</th>\n",
       "      <th>job_level</th>\n",
       "      <th>performance_rating</th>\n",
       "      <th>engagement</th>\n",
       "      <th>salary_thousands</th>\n",
       "      <th>tenure_years</th>\n",
       "    </tr>\n",
       "  </thead>\n",
       "  <tbody>\n",
       "    <tr>\n",
       "      <th>0</th>\n",
       "      <td>0</td>\n",
       "      <td>Account/Client Management</td>\n",
       "      <td>Male</td>\n",
       "      <td>Individual Contributor</td>\n",
       "      <td>2</td>\n",
       "      <td>3</td>\n",
       "      <td>165</td>\n",
       "      <td>49</td>\n",
       "    </tr>\n",
       "    <tr>\n",
       "      <th>1</th>\n",
       "      <td>1</td>\n",
       "      <td>Technology</td>\n",
       "      <td>Male</td>\n",
       "      <td>Individual Contributor</td>\n",
       "      <td>4</td>\n",
       "      <td>5</td>\n",
       "      <td>68</td>\n",
       "      <td>23</td>\n",
       "    </tr>\n",
       "    <tr>\n",
       "      <th>2</th>\n",
       "      <td>2</td>\n",
       "      <td>Account/Client Management</td>\n",
       "      <td>Male</td>\n",
       "      <td>Individual Contributor</td>\n",
       "      <td>4</td>\n",
       "      <td>5</td>\n",
       "      <td>109</td>\n",
       "      <td>11</td>\n",
       "    </tr>\n",
       "    <tr>\n",
       "      <th>3</th>\n",
       "      <td>3</td>\n",
       "      <td>Account/Client Management</td>\n",
       "      <td>Male</td>\n",
       "      <td>Individual Contributor</td>\n",
       "      <td>4</td>\n",
       "      <td>3</td>\n",
       "      <td>143</td>\n",
       "      <td>27</td>\n",
       "    </tr>\n",
       "    <tr>\n",
       "      <th>4</th>\n",
       "      <td>4</td>\n",
       "      <td>Account/Client Management</td>\n",
       "      <td>Male</td>\n",
       "      <td>Individual Contributor</td>\n",
       "      <td>3</td>\n",
       "      <td>5</td>\n",
       "      <td>83</td>\n",
       "      <td>8</td>\n",
       "    </tr>\n",
       "  </tbody>\n",
       "</table>\n",
       "</div>"
      ],
      "text/plain": [
       "   employee_id                 department gender               job_level  \\\n",
       "0            0  Account/Client Management   Male  Individual Contributor   \n",
       "1            1                 Technology   Male  Individual Contributor   \n",
       "2            2  Account/Client Management   Male  Individual Contributor   \n",
       "3            3  Account/Client Management   Male  Individual Contributor   \n",
       "4            4  Account/Client Management   Male  Individual Contributor   \n",
       "\n",
       "   performance_rating  engagement  salary_thousands  tenure_years  \n",
       "0                   2           3               165            49  \n",
       "1                   4           5                68            23  \n",
       "2                   4           5               109            11  \n",
       "3                   4           3               143            27  \n",
       "4                   3           5                83             8  "
      ]
     },
     "execution_count": 19,
     "metadata": {},
     "output_type": "execute_result"
    }
   ],
   "source": [
    "combined_lists = zip(performance, engagement, salary, tenure)\n",
    "\n",
    "temp_df = pd.DataFrame(combined_lists, columns = ['performance_rating', 'engagement', 'salary_thousands', 'tenure_years'])\n",
    "df_emp_working = pd.concat([df_emp_working, temp_df], axis = 1)\n",
    "df_emp_working.head()"
   ]
  },
  {
   "cell_type": "markdown",
   "metadata": {},
   "source": [
    "Our dataset is really coming together!  We have a few more items to still cover though.  First we will tackle adding in age.  This is a bit more complex given the logical requirements of someone with 50 years of tenure cannot be in their 20's (insert mediocre Benjamin Button joke)."
   ]
  },
  {
   "cell_type": "code",
   "execution_count": 20,
   "metadata": {},
   "outputs": [],
   "source": [
    "age = []\n",
    "\n",
    "for tenure in df_emp_working['tenure_years']:\n",
    "    random_age = np.random.randint(21, 65)\n",
    "    if tenure + 21 < random_age:\n",
    "        age.append(tenure + np.random.randint(21, 30))\n",
    "    else: \n",
    "        age.append(random_age)\n",
    "    "
   ]
  },
  {
   "cell_type": "code",
   "execution_count": 21,
   "metadata": {},
   "outputs": [
    {
     "data": {
      "image/png": "[encoded data removed]",
      "text/plain": [
       "<Figure size 432x288 with 1 Axes>"
      ]
     },
     "metadata": {
      "needs_background": "light"
     },
     "output_type": "display_data"
    }
   ],
   "source": [
    "plt.hist(age, bins = 25)\n",
    "plt.show()"
   ]
  },
  {
   "cell_type": "code",
   "execution_count": 22,
   "metadata": {},
   "outputs": [
    {
     "data": {
      "text/html": [
       "<div>\n",
       "<style scoped>\n",
       "    .dataframe tbody tr th:only-of-type {\n",
       "        vertical-align: middle;\n",
       "    }\n",
       "\n",
       "    .dataframe tbody tr th {\n",
       "        vertical-align: top;\n",
       "    }\n",
       "\n",
       "    .dataframe thead th {\n",
       "        text-align: right;\n",
       "    }\n",
       "</style>\n",
       "<table border=\"1\" class=\"dataframe\">\n",
       "  <thead>\n",
       "    <tr style=\"text-align: right;\">\n",
       "      <th></th>\n",
       "      <th>employee_id</th>\n",
       "      <th>department</th>\n",
       "      <th>gender</th>\n",
       "      <th>job_level</th>\n",
       "      <th>performance_rating</th>\n",
       "      <th>engagement</th>\n",
       "      <th>salary_thousands</th>\n",
       "      <th>tenure_years</th>\n",
       "      <th>age_years</th>\n",
       "    </tr>\n",
       "  </thead>\n",
       "  <tbody>\n",
       "    <tr>\n",
       "      <th>0</th>\n",
       "      <td>0</td>\n",
       "      <td>Account/Client Management</td>\n",
       "      <td>Male</td>\n",
       "      <td>Individual Contributor</td>\n",
       "      <td>2</td>\n",
       "      <td>3</td>\n",
       "      <td>165</td>\n",
       "      <td>49</td>\n",
       "      <td>36</td>\n",
       "    </tr>\n",
       "    <tr>\n",
       "      <th>1</th>\n",
       "      <td>1</td>\n",
       "      <td>Technology</td>\n",
       "      <td>Male</td>\n",
       "      <td>Individual Contributor</td>\n",
       "      <td>4</td>\n",
       "      <td>5</td>\n",
       "      <td>68</td>\n",
       "      <td>23</td>\n",
       "      <td>25</td>\n",
       "    </tr>\n",
       "    <tr>\n",
       "      <th>2</th>\n",
       "      <td>2</td>\n",
       "      <td>Account/Client Management</td>\n",
       "      <td>Male</td>\n",
       "      <td>Individual Contributor</td>\n",
       "      <td>4</td>\n",
       "      <td>5</td>\n",
       "      <td>109</td>\n",
       "      <td>11</td>\n",
       "      <td>33</td>\n",
       "    </tr>\n",
       "    <tr>\n",
       "      <th>3</th>\n",
       "      <td>3</td>\n",
       "      <td>Account/Client Management</td>\n",
       "      <td>Male</td>\n",
       "      <td>Individual Contributor</td>\n",
       "      <td>4</td>\n",
       "      <td>3</td>\n",
       "      <td>143</td>\n",
       "      <td>27</td>\n",
       "      <td>52</td>\n",
       "    </tr>\n",
       "    <tr>\n",
       "      <th>4</th>\n",
       "      <td>4</td>\n",
       "      <td>Account/Client Management</td>\n",
       "      <td>Male</td>\n",
       "      <td>Individual Contributor</td>\n",
       "      <td>3</td>\n",
       "      <td>5</td>\n",
       "      <td>83</td>\n",
       "      <td>8</td>\n",
       "      <td>34</td>\n",
       "    </tr>\n",
       "  </tbody>\n",
       "</table>\n",
       "</div>"
      ],
      "text/plain": [
       "   employee_id                 department gender               job_level  \\\n",
       "0            0  Account/Client Management   Male  Individual Contributor   \n",
       "1            1                 Technology   Male  Individual Contributor   \n",
       "2            2  Account/Client Management   Male  Individual Contributor   \n",
       "3            3  Account/Client Management   Male  Individual Contributor   \n",
       "4            4  Account/Client Management   Male  Individual Contributor   \n",
       "\n",
       "   performance_rating  engagement  salary_thousands  tenure_years  age_years  \n",
       "0                   2           3               165            49         36  \n",
       "1                   4           5                68            23         25  \n",
       "2                   4           5               109            11         33  \n",
       "3                   4           3               143            27         52  \n",
       "4                   3           5                83             8         34  "
      ]
     },
     "execution_count": 22,
     "metadata": {},
     "output_type": "execute_result"
    }
   ],
   "source": [
    "temp_df = pd.DataFrame(age, columns = ['age_years'])\n",
    "df_emp_working = pd.concat([df_emp_working, temp_df], axis = 1)\n",
    "df_emp_working.head()"
   ]
  },
  {
   "cell_type": "markdown",
   "metadata": {},
   "source": [
    "This shows us that the age of our employees skew younger.  Next we want to add some more interesting differences in our dataset by adding promotions into the mix.  This will create additional records for us to observe within a given year."
   ]
  },
  {
   "cell_type": "code",
   "execution_count": 23,
   "metadata": {},
   "outputs": [],
   "source": [
    "promotions = []\n",
    "\n",
    "for emp in df_emp_working['employee_id']:\n",
    "    random_number = np.random.random()\n",
    "    temp_emp_df = df_emp_working[df_emp_working['employee_id'] == emp]\n",
    "    performance_val = temp_emp_df['performance_rating'].iloc[0]\n",
    "    emp_type = temp_emp_df['job_level'].iloc[0]\n",
    "    temp_df = config[(config['metric'] == 'Promotions') & \n",
    "                     (config['employee_level'] == emp_type) & \n",
    "                     (config['rating'] == performance_val)]\n",
    "    if random_number <= temp_df['probability'].iloc[0]:\n",
    "        promotions.append(1)\n",
    "    else:\n",
    "        promotions.append(0)"
   ]
  },
  {
   "cell_type": "code",
   "execution_count": 24,
   "metadata": {},
   "outputs": [
    {
     "name": "stdout",
     "output_type": "stream",
     "text": [
      "Promoted:  880\n",
      "Not Promoted:  11620\n",
      "Promotion Rate:  0.0704\n"
     ]
    }
   ],
   "source": [
    "print(\"Promoted: \", promotions.count(1))\n",
    "print(\"Not Promoted: \", promotions.count(0))\n",
    "\n",
    "print(\"Promotion Rate: \",promotions.count(1) / len(promotions))"
   ]
  },
  {
   "cell_type": "markdown",
   "metadata": {},
   "source": [
    "We will add our promotion list to our existing dataset now."
   ]
  },
  {
   "cell_type": "code",
   "execution_count": 25,
   "metadata": {},
   "outputs": [
    {
     "data": {
      "text/html": [
       "<div>\n",
       "<style scoped>\n",
       "    .dataframe tbody tr th:only-of-type {\n",
       "        vertical-align: middle;\n",
       "    }\n",
       "\n",
       "    .dataframe tbody tr th {\n",
       "        vertical-align: top;\n",
       "    }\n",
       "\n",
       "    .dataframe thead th {\n",
       "        text-align: right;\n",
       "    }\n",
       "</style>\n",
       "<table border=\"1\" class=\"dataframe\">\n",
       "  <thead>\n",
       "    <tr style=\"text-align: right;\">\n",
       "      <th></th>\n",
       "      <th>employee_id</th>\n",
       "      <th>department</th>\n",
       "      <th>gender</th>\n",
       "      <th>job_level</th>\n",
       "      <th>performance_rating</th>\n",
       "      <th>engagement</th>\n",
       "      <th>salary_thousands</th>\n",
       "      <th>tenure_years</th>\n",
       "      <th>age_years</th>\n",
       "      <th>promotion_indicator</th>\n",
       "    </tr>\n",
       "  </thead>\n",
       "  <tbody>\n",
       "    <tr>\n",
       "      <th>0</th>\n",
       "      <td>0</td>\n",
       "      <td>Account/Client Management</td>\n",
       "      <td>Male</td>\n",
       "      <td>Individual Contributor</td>\n",
       "      <td>2</td>\n",
       "      <td>3</td>\n",
       "      <td>165</td>\n",
       "      <td>49</td>\n",
       "      <td>36</td>\n",
       "      <td>0</td>\n",
       "    </tr>\n",
       "    <tr>\n",
       "      <th>1</th>\n",
       "      <td>1</td>\n",
       "      <td>Technology</td>\n",
       "      <td>Male</td>\n",
       "      <td>Individual Contributor</td>\n",
       "      <td>4</td>\n",
       "      <td>5</td>\n",
       "      <td>68</td>\n",
       "      <td>23</td>\n",
       "      <td>25</td>\n",
       "      <td>1</td>\n",
       "    </tr>\n",
       "    <tr>\n",
       "      <th>2</th>\n",
       "      <td>2</td>\n",
       "      <td>Account/Client Management</td>\n",
       "      <td>Male</td>\n",
       "      <td>Individual Contributor</td>\n",
       "      <td>4</td>\n",
       "      <td>5</td>\n",
       "      <td>109</td>\n",
       "      <td>11</td>\n",
       "      <td>33</td>\n",
       "      <td>0</td>\n",
       "    </tr>\n",
       "    <tr>\n",
       "      <th>3</th>\n",
       "      <td>3</td>\n",
       "      <td>Account/Client Management</td>\n",
       "      <td>Male</td>\n",
       "      <td>Individual Contributor</td>\n",
       "      <td>4</td>\n",
       "      <td>3</td>\n",
       "      <td>143</td>\n",
       "      <td>27</td>\n",
       "      <td>52</td>\n",
       "      <td>0</td>\n",
       "    </tr>\n",
       "    <tr>\n",
       "      <th>4</th>\n",
       "      <td>4</td>\n",
       "      <td>Account/Client Management</td>\n",
       "      <td>Male</td>\n",
       "      <td>Individual Contributor</td>\n",
       "      <td>3</td>\n",
       "      <td>5</td>\n",
       "      <td>83</td>\n",
       "      <td>8</td>\n",
       "      <td>34</td>\n",
       "      <td>0</td>\n",
       "    </tr>\n",
       "  </tbody>\n",
       "</table>\n",
       "</div>"
      ],
      "text/plain": [
       "   employee_id                 department gender               job_level  \\\n",
       "0            0  Account/Client Management   Male  Individual Contributor   \n",
       "1            1                 Technology   Male  Individual Contributor   \n",
       "2            2  Account/Client Management   Male  Individual Contributor   \n",
       "3            3  Account/Client Management   Male  Individual Contributor   \n",
       "4            4  Account/Client Management   Male  Individual Contributor   \n",
       "\n",
       "   performance_rating  engagement  salary_thousands  tenure_years  age_years  \\\n",
       "0                   2           3               165            49         36   \n",
       "1                   4           5                68            23         25   \n",
       "2                   4           5               109            11         33   \n",
       "3                   4           3               143            27         52   \n",
       "4                   3           5                83             8         34   \n",
       "\n",
       "   promotion_indicator  \n",
       "0                    0  \n",
       "1                    1  \n",
       "2                    0  \n",
       "3                    0  \n",
       "4                    0  "
      ]
     },
     "execution_count": 25,
     "metadata": {},
     "output_type": "execute_result"
    }
   ],
   "source": [
    "temp_df = pd.DataFrame(promotions, columns = ['promotion_indicator'])\n",
    "df_emp_working = pd.concat([df_emp_working, temp_df], axis = 1)\n",
    "df_emp_working.head()"
   ]
  },
  {
   "cell_type": "markdown",
   "metadata": {},
   "source": [
    "Now it is time to make our new hires!  Since we have established this company hires about 15% of its workforce count as of the first of each year, we will need to generate these new employees using the same logic we have just gone through for our initial employees.  Rather than simply copying and pasting our code, we are going to leverage an approach of creating our own functions and then referencing them."
   ]
  },
  {
   "cell_type": "code",
   "execution_count": 26,
   "metadata": {},
   "outputs": [
    {
     "data": {
      "text/html": [
       "<div>\n",
       "<style scoped>\n",
       "    .dataframe tbody tr th:only-of-type {\n",
       "        vertical-align: middle;\n",
       "    }\n",
       "\n",
       "    .dataframe tbody tr th {\n",
       "        vertical-align: top;\n",
       "    }\n",
       "\n",
       "    .dataframe thead th {\n",
       "        text-align: right;\n",
       "    }\n",
       "</style>\n",
       "<table border=\"1\" class=\"dataframe\">\n",
       "  <thead>\n",
       "    <tr style=\"text-align: right;\">\n",
       "      <th></th>\n",
       "      <th>employee_id</th>\n",
       "      <th>department</th>\n",
       "      <th>gender</th>\n",
       "      <th>job_level</th>\n",
       "      <th>performance_rating</th>\n",
       "      <th>engagement</th>\n",
       "      <th>salary_thousands</th>\n",
       "      <th>tenure_years</th>\n",
       "      <th>age_years</th>\n",
       "      <th>promotion_indicator</th>\n",
       "      <th>record_start_date</th>\n",
       "      <th>record_end_date</th>\n",
       "    </tr>\n",
       "  </thead>\n",
       "  <tbody>\n",
       "    <tr>\n",
       "      <th>0</th>\n",
       "      <td>12506</td>\n",
       "      <td>Corporate Admin (HR, Finance, etc)</td>\n",
       "      <td>Male</td>\n",
       "      <td>Individual Contributor</td>\n",
       "      <td></td>\n",
       "      <td></td>\n",
       "      <td>44</td>\n",
       "      <td>0</td>\n",
       "      <td>49</td>\n",
       "      <td>0</td>\n",
       "      <td>2018-01-05</td>\n",
       "      <td>2018-12-31</td>\n",
       "    </tr>\n",
       "    <tr>\n",
       "      <th>1</th>\n",
       "      <td>12511</td>\n",
       "      <td>Technology</td>\n",
       "      <td>Female</td>\n",
       "      <td>Individual Contributor</td>\n",
       "      <td></td>\n",
       "      <td></td>\n",
       "      <td>189</td>\n",
       "      <td>0</td>\n",
       "      <td>56</td>\n",
       "      <td>0</td>\n",
       "      <td>2018-03-24</td>\n",
       "      <td>2018-12-31</td>\n",
       "    </tr>\n",
       "    <tr>\n",
       "      <th>2</th>\n",
       "      <td>12514</td>\n",
       "      <td>Account/Client Management</td>\n",
       "      <td>Female</td>\n",
       "      <td>Individual Contributor</td>\n",
       "      <td></td>\n",
       "      <td></td>\n",
       "      <td>55</td>\n",
       "      <td>0</td>\n",
       "      <td>61</td>\n",
       "      <td>0</td>\n",
       "      <td>2018-08-19</td>\n",
       "      <td>2018-12-31</td>\n",
       "    </tr>\n",
       "    <tr>\n",
       "      <th>3</th>\n",
       "      <td>12525</td>\n",
       "      <td>Technology</td>\n",
       "      <td>Male</td>\n",
       "      <td>Manager</td>\n",
       "      <td></td>\n",
       "      <td></td>\n",
       "      <td>171</td>\n",
       "      <td>0</td>\n",
       "      <td>37</td>\n",
       "      <td>0</td>\n",
       "      <td>2018-10-26</td>\n",
       "      <td>2018-12-31</td>\n",
       "    </tr>\n",
       "    <tr>\n",
       "      <th>4</th>\n",
       "      <td>12533</td>\n",
       "      <td>Account/Client Management</td>\n",
       "      <td>Male</td>\n",
       "      <td>Senior Leader</td>\n",
       "      <td></td>\n",
       "      <td></td>\n",
       "      <td>483</td>\n",
       "      <td>0</td>\n",
       "      <td>32</td>\n",
       "      <td>0</td>\n",
       "      <td>2018-01-14</td>\n",
       "      <td>2018-12-31</td>\n",
       "    </tr>\n",
       "  </tbody>\n",
       "</table>\n",
       "</div>"
      ],
      "text/plain": [
       "   employee_id                          department  gender  \\\n",
       "0        12506  Corporate Admin (HR, Finance, etc)    Male   \n",
       "1        12511                          Technology  Female   \n",
       "2        12514           Account/Client Management  Female   \n",
       "3        12525                          Technology    Male   \n",
       "4        12533           Account/Client Management    Male   \n",
       "\n",
       "                job_level performance_rating engagement  salary_thousands  \\\n",
       "0  Individual Contributor                                              44   \n",
       "1  Individual Contributor                                             189   \n",
       "2  Individual Contributor                                              55   \n",
       "3                 Manager                                             171   \n",
       "4           Senior Leader                                             483   \n",
       "\n",
       "   tenure_years  age_years  promotion_indicator record_start_date  \\\n",
       "0             0         49                    0        2018-01-05   \n",
       "1             0         56                    0        2018-03-24   \n",
       "2             0         61                    0        2018-08-19   \n",
       "3             0         37                    0        2018-10-26   \n",
       "4             0         32                    0        2018-01-14   \n",
       "\n",
       "  record_end_date  \n",
       "0      2018-12-31  \n",
       "1      2018-12-31  \n",
       "2      2018-12-31  \n",
       "3      2018-12-31  \n",
       "4      2018-12-31  "
      ]
     },
     "execution_count": 26,
     "metadata": {},
     "output_type": "execute_result"
    }
   ],
   "source": [
    "import employee_creation as ec\n",
    "new_emps = ec.create_new_employees(last_emp_number = df_emp_working['employee_id'].max(), \n",
    "                     emp_count = 12500, new_hire_rate = .15, year_of_data = 2018)\n",
    "new_emps.head()"
   ]
  },
  {
   "cell_type": "markdown",
   "metadata": {},
   "source": [
    "As you can see above, we have now created a new dataset that contains our new hires for the year.  The import statement for employee_creation is the other Python file containing the function that was written.  If you find yourself copying and pasting complex logic, it is often best to utilize this approach.  If you find your team utilizing the same or similar types of actions or custom functions, this is a great approach to leverage so your team is able to gain efficiencies and accuracies by leveraging the same \"package\".\n",
    "\n",
    "Almost there with our data!  Next we will put in the record start and end dates.  We will only need to create new records for our employees who were promoted.  For simplicity, we will assume people at this company can only be promoted twice per year."
   ]
  },
  {
   "cell_type": "code",
   "execution_count": 27,
   "metadata": {},
   "outputs": [],
   "source": [
    "df_emp_working['record_start_date'] = datetime.datetime(2018, 1, 1)\n",
    "\n",
    "record_end_date = []\n",
    "\n",
    "for emp in df_emp_working['promotion_indicator']:\n",
    "    random_number = np.random.random()\n",
    "    if (random_number <= .75) & (emp == 1):\n",
    "        record_end_date.append(datetime.datetime(2018, 4, 1))\n",
    "    elif (random_number > .75) & (emp == 1):\n",
    "        record_end_date.append(datetime.datetime(2018, 10, 1))\n",
    "    else:\n",
    "        record_end_date.append(datetime.datetime(2018, 12, 31))\n",
    "        \n",
    "end_date_df = pd.DataFrame(record_end_date, columns = ['record_end_date'])\n",
    "df_emp_working = pd.concat([df_emp_working, end_date_df], axis = 1)"
   ]
  },
  {
   "cell_type": "markdown",
   "metadata": {},
   "source": [
    "So now we have our dates we can use to identify when a record is validate as of.  Now we will use that record to create the new record for those employees who were promoted.\n",
    "\n",
    "We will first get the new start and end dates we want for the record."
   ]
  },
  {
   "cell_type": "code",
   "execution_count": 28,
   "metadata": {},
   "outputs": [
    {
     "name": "stderr",
     "output_type": "stream",
     "text": [
      "C:\\Users\\jason\\anaconda3\\lib\\site-packages\\ipykernel_launcher.py:4: SettingWithCopyWarning: \n",
      "A value is trying to be set on a copy of a slice from a DataFrame.\n",
      "Try using .loc[row_indexer,col_indexer] = value instead\n",
      "\n",
      "See the caveats in the documentation: https://pandas.pydata.org/pandas-docs/stable/user_guide/indexing.html#returning-a-view-versus-a-copy\n",
      "  after removing the cwd from sys.path.\n",
      "C:\\Users\\jason\\anaconda3\\lib\\site-packages\\ipykernel_launcher.py:5: SettingWithCopyWarning: \n",
      "A value is trying to be set on a copy of a slice from a DataFrame.\n",
      "Try using .loc[row_indexer,col_indexer] = value instead\n",
      "\n",
      "See the caveats in the documentation: https://pandas.pydata.org/pandas-docs/stable/user_guide/indexing.html#returning-a-view-versus-a-copy\n",
      "  \"\"\"\n"
     ]
    }
   ],
   "source": [
    "from datetime import timedelta\n",
    "promoted_emps = df_emp_working[(df_emp_working['promotion_indicator'] == 1)]\n",
    "\n",
    "promoted_emps['record_start_date'] = promoted_emps['record_end_date'] + timedelta(days=1)\n",
    "promoted_emps['record_end_date'] = datetime.datetime(2018, 12, 31)"
   ]
  },
  {
   "cell_type": "markdown",
   "metadata": {},
   "source": [
    "Now we want to account for some employees being promoted into a new job level.  We will use some basic probabilities to determine what employees are promoted into a new job level and which will remain in their existing job level."
   ]
  },
  {
   "cell_type": "code",
   "execution_count": 29,
   "metadata": {},
   "outputs": [],
   "source": [
    "new_job_level = []\n",
    "\n",
    "for emp in promoted_emps['job_level'].to_list():\n",
    "    random_number = np.random.random()\n",
    "    if emp == 'Individual Contributor':\n",
    "        if random_number <= .05:\n",
    "            new_job_level.append(\"Manager\")\n",
    "        else:\n",
    "            new_job_level.append(\"Individual Contributor\")\n",
    "    elif emp == 'Manager':\n",
    "        if random_number <= 0.05:\n",
    "            new_job_level.append(\"Senior Leader\")\n",
    "        else:\n",
    "            new_job_level.append(\"Manager\")\n",
    "    elif emp == 'Senior Leader':\n",
    "        if random_number <= 0.03:\n",
    "            new_job_level.append(\"Executive\")\n",
    "        else:\n",
    "            new_job_level.append(\"Senior Leader\")\n",
    "    else:\n",
    "        new_job_level.append(\"Executive\")\n",
    "\n"
   ]
  },
  {
   "cell_type": "markdown",
   "metadata": {},
   "source": [
    "Now we replace the old job level with the new one"
   ]
  },
  {
   "cell_type": "code",
   "execution_count": 30,
   "metadata": {},
   "outputs": [
    {
     "name": "stderr",
     "output_type": "stream",
     "text": [
      "C:\\Users\\jason\\anaconda3\\lib\\site-packages\\ipykernel_launcher.py:1: SettingWithCopyWarning: \n",
      "A value is trying to be set on a copy of a slice from a DataFrame.\n",
      "Try using .loc[row_indexer,col_indexer] = value instead\n",
      "\n",
      "See the caveats in the documentation: https://pandas.pydata.org/pandas-docs/stable/user_guide/indexing.html#returning-a-view-versus-a-copy\n",
      "  \"\"\"Entry point for launching an IPython kernel.\n"
     ]
    }
   ],
   "source": [
    "promoted_emps['job_level'] = new_job_level"
   ]
  },
  {
   "cell_type": "markdown",
   "metadata": {},
   "source": [
    "Now we will reset the promotion indicator so we don't think these individuals were promoted twice within the same calendar year."
   ]
  },
  {
   "cell_type": "code",
   "execution_count": 31,
   "metadata": {},
   "outputs": [
    {
     "name": "stderr",
     "output_type": "stream",
     "text": [
      "C:\\Users\\jason\\anaconda3\\lib\\site-packages\\ipykernel_launcher.py:1: SettingWithCopyWarning: \n",
      "A value is trying to be set on a copy of a slice from a DataFrame.\n",
      "Try using .loc[row_indexer,col_indexer] = value instead\n",
      "\n",
      "See the caveats in the documentation: https://pandas.pydata.org/pandas-docs/stable/user_guide/indexing.html#returning-a-view-versus-a-copy\n",
      "  \"\"\"Entry point for launching an IPython kernel.\n"
     ]
    }
   ],
   "source": [
    "promoted_emps['promotion_indicator'] = 0"
   ]
  },
  {
   "cell_type": "markdown",
   "metadata": {},
   "source": [
    "Now lets put our original dataset, our new hires, and promoted employee records together into a single data set!  Rather than the axis = 1, we will now the axis = 0 as we want to put the different dataframes on top of each other, not side to side."
   ]
  },
  {
   "cell_type": "code",
   "execution_count": 32,
   "metadata": {},
   "outputs": [],
   "source": [
    "temp_combined = pd.concat([df_emp_working, promoted_emps], axis = 0)\n",
    "temp_combined = pd.concat([temp_combined, new_emps], axis = 0)"
   ]
  },
  {
   "cell_type": "markdown",
   "metadata": {},
   "source": [
    "Some brief clean up to change the data types of our columns to align with what we want.  Specifically the performance and engagement columns are not currently integers, which we will want to make our lives a bit easier when trying to put together our termination logic.  We also want to convert our record start date to the same datetime type as our record end date.  This will help save some frustrations later on when trying to leverage our dates."
   ]
  },
  {
   "cell_type": "code",
   "execution_count": 33,
   "metadata": {},
   "outputs": [],
   "source": [
    "temp_combined['performance_rating'] = pd.to_numeric(temp_combined['performance_rating'])\n",
    "temp_combined['engagement'] = pd.to_numeric(temp_combined['engagement'])\n",
    "temp_combined['record_start_date'] = pd.to_datetime(temp_combined['record_start_date'])"
   ]
  },
  {
   "cell_type": "markdown",
   "metadata": {},
   "source": [
    "Now the final step in creating this dataset (finally), creating the termination date.  Since this will be used for a termination prediction model, I'll be a bit lighter on the details, but I can tell you that the model will find some pattern :)"
   ]
  },
  {
   "cell_type": "code",
   "execution_count": 34,
   "metadata": {},
   "outputs": [],
   "source": [
    "termination_indicator = []\n",
    "termination_date = []\n",
    "new_record_end_date = []\n",
    "\n",
    "for emp in temp_combined['employee_id']:\n",
    "    temp_df = temp_combined[temp_combined['employee_id'] == emp]\n",
    "    term_prob = 0.15\n",
    "    if temp_df['engagement'].iloc[0] <= 2:\n",
    "        term_prob = term_prob + 0.25\n",
    "    elif temp_df['engagement'].iloc[0] >= 4:\n",
    "        term_prob = term_prob - 0.1\n",
    "    else:\n",
    "        term_prob = term_prob + 0\n",
    "    \n",
    "    if temp_df['performance_rating'].iloc[0] == 1:\n",
    "        term_prob = term_prob + .2\n",
    "    elif temp_df['performance_rating'].iloc[0] == 2:\n",
    "        term_prob = term_prob + 0.1\n",
    "    elif temp_df['performance_rating'].iloc[0] == 3:\n",
    "        term_prob = term_prob - 0.025\n",
    "    elif temp_df['performance_rating'].iloc[0] == 4:\n",
    "        term_prob = term_prob - 0.05\n",
    "    elif temp_df['performance_rating'].iloc[0] == 5:\n",
    "        term_prob = term_prob + .1\n",
    "        \n",
    "    if temp_df['tenure_years'].iloc[0] == 0:\n",
    "        term_prob = term_prob + 0\n",
    "    elif temp_df['tenure_years'].iloc[0] <= 2:\n",
    "        term_prob = term_prob + 0.1\n",
    "    elif temp_df['tenure_years'].iloc[0] <= 5:\n",
    "        term_prob = term_prob + 0.05\n",
    "    elif temp_df['tenure_years'].iloc[0] <= 15:\n",
    "        term_prob = term_prob + 0.025\n",
    "    elif temp_df['tenure_years'].iloc[0] <= 20:\n",
    "        term_prob = term_prob + 0.01\n",
    "    \n",
    "    if temp_df['promotion_indicator'].iloc[0] == 1:\n",
    "        term_prob = term_prob - 100\n",
    "            \n",
    "    \n",
    "    random_number = np.random.random()\n",
    "    if random_number <= term_prob:\n",
    "        termination_indicator.append(1)\n",
    "        start_date = temp_df['record_start_date'].iloc[0]\n",
    "        end_date = datetime.datetime(2018, 12, 31)\n",
    "        time_between_dates = end_date - start_date\n",
    "        days_between_dates = time_between_dates.days\n",
    "        random_number_of_days = np.random.randint(1, days_between_dates)\n",
    "        random_date = start_date + datetime.timedelta(days=random_number_of_days)\n",
    "        termination_date.append(random_date)\n",
    "        new_record_end_date.append(random_date)\n",
    "    else:\n",
    "        termination_indicator.append(0)\n",
    "        termination_date.append(\"\")\n",
    "        new_record_end_date.append(temp_combined['record_end_date'].iloc[0])\n",
    "    "
   ]
  },
  {
   "cell_type": "markdown",
   "metadata": {},
   "source": [
    "We want to give ourselves a rough idea of how frequent turnover is occuring.  While this isn't the 100% accurate termination rate calculation, it gives us an idea of how often turnover is occuring at this company.\n",
    "\n",
    "A concept we will get into in the turnover model chapter is about how \"balanced\" your target variable is.  Having an imbalanced target variable introduces a number of issues.  The simpliest and most clear is if our turnover rate is 20% per year, we could assume no one turnovers over and have a model that is 80% accurate.  However, that is a model that is not useful.  We will get into a bit more detail on how we can account for an imbalance in our target variable with the use of different metrics"
   ]
  },
  {
   "cell_type": "code",
   "execution_count": 35,
   "metadata": {},
   "outputs": [
    {
     "data": {
      "text/plain": [
       "0.19392983839180133"
      ]
     },
     "execution_count": 35,
     "metadata": {},
     "output_type": "execute_result"
    }
   ],
   "source": [
    "termination_indicator.count(1) / len(termination_indicator)"
   ]
  },
  {
   "cell_type": "markdown",
   "metadata": {},
   "source": [
    "Now let's do the final clean up of the file by putting our new columns in and replacing the old record end date with the new one."
   ]
  },
  {
   "cell_type": "code",
   "execution_count": 36,
   "metadata": {},
   "outputs": [
    {
     "data": {
      "text/html": [
       "<div>\n",
       "<style scoped>\n",
       "    .dataframe tbody tr th:only-of-type {\n",
       "        vertical-align: middle;\n",
       "    }\n",
       "\n",
       "    .dataframe tbody tr th {\n",
       "        vertical-align: top;\n",
       "    }\n",
       "\n",
       "    .dataframe thead th {\n",
       "        text-align: right;\n",
       "    }\n",
       "</style>\n",
       "<table border=\"1\" class=\"dataframe\">\n",
       "  <thead>\n",
       "    <tr style=\"text-align: right;\">\n",
       "      <th></th>\n",
       "      <th>employee_id</th>\n",
       "      <th>department</th>\n",
       "      <th>gender</th>\n",
       "      <th>job_level</th>\n",
       "      <th>performance_rating</th>\n",
       "      <th>engagement</th>\n",
       "      <th>salary_thousands</th>\n",
       "      <th>tenure_years</th>\n",
       "      <th>age_years</th>\n",
       "      <th>promotion_indicator</th>\n",
       "      <th>record_start_date</th>\n",
       "      <th>record_end_date</th>\n",
       "      <th>termination_indicator</th>\n",
       "      <th>termination_date</th>\n",
       "    </tr>\n",
       "  </thead>\n",
       "  <tbody>\n",
       "    <tr>\n",
       "      <th>0</th>\n",
       "      <td>0</td>\n",
       "      <td>Account/Client Management</td>\n",
       "      <td>Male</td>\n",
       "      <td>Individual Contributor</td>\n",
       "      <td>2.0</td>\n",
       "      <td>3.0</td>\n",
       "      <td>165</td>\n",
       "      <td>49</td>\n",
       "      <td>36</td>\n",
       "      <td>0</td>\n",
       "      <td>2018-01-01</td>\n",
       "      <td>2018-12-31</td>\n",
       "      <td>0</td>\n",
       "      <td></td>\n",
       "    </tr>\n",
       "    <tr>\n",
       "      <th>1</th>\n",
       "      <td>1</td>\n",
       "      <td>Technology</td>\n",
       "      <td>Male</td>\n",
       "      <td>Individual Contributor</td>\n",
       "      <td>4.0</td>\n",
       "      <td>5.0</td>\n",
       "      <td>68</td>\n",
       "      <td>23</td>\n",
       "      <td>25</td>\n",
       "      <td>1</td>\n",
       "      <td>2018-01-01</td>\n",
       "      <td>2018-12-31</td>\n",
       "      <td>0</td>\n",
       "      <td></td>\n",
       "    </tr>\n",
       "    <tr>\n",
       "      <th>2</th>\n",
       "      <td>2</td>\n",
       "      <td>Account/Client Management</td>\n",
       "      <td>Male</td>\n",
       "      <td>Individual Contributor</td>\n",
       "      <td>4.0</td>\n",
       "      <td>5.0</td>\n",
       "      <td>109</td>\n",
       "      <td>11</td>\n",
       "      <td>33</td>\n",
       "      <td>0</td>\n",
       "      <td>2018-01-01</td>\n",
       "      <td>2018-12-31</td>\n",
       "      <td>0</td>\n",
       "      <td></td>\n",
       "    </tr>\n",
       "    <tr>\n",
       "      <th>3</th>\n",
       "      <td>3</td>\n",
       "      <td>Account/Client Management</td>\n",
       "      <td>Male</td>\n",
       "      <td>Individual Contributor</td>\n",
       "      <td>4.0</td>\n",
       "      <td>3.0</td>\n",
       "      <td>143</td>\n",
       "      <td>27</td>\n",
       "      <td>52</td>\n",
       "      <td>0</td>\n",
       "      <td>2018-01-01</td>\n",
       "      <td>2018-12-31</td>\n",
       "      <td>0</td>\n",
       "      <td></td>\n",
       "    </tr>\n",
       "    <tr>\n",
       "      <th>4</th>\n",
       "      <td>4</td>\n",
       "      <td>Account/Client Management</td>\n",
       "      <td>Male</td>\n",
       "      <td>Individual Contributor</td>\n",
       "      <td>3.0</td>\n",
       "      <td>5.0</td>\n",
       "      <td>83</td>\n",
       "      <td>8</td>\n",
       "      <td>34</td>\n",
       "      <td>0</td>\n",
       "      <td>2018-01-01</td>\n",
       "      <td>2018-12-31</td>\n",
       "      <td>0</td>\n",
       "      <td></td>\n",
       "    </tr>\n",
       "  </tbody>\n",
       "</table>\n",
       "</div>"
      ],
      "text/plain": [
       "   employee_id                 department gender               job_level  \\\n",
       "0            0  Account/Client Management   Male  Individual Contributor   \n",
       "1            1                 Technology   Male  Individual Contributor   \n",
       "2            2  Account/Client Management   Male  Individual Contributor   \n",
       "3            3  Account/Client Management   Male  Individual Contributor   \n",
       "4            4  Account/Client Management   Male  Individual Contributor   \n",
       "\n",
       "   performance_rating  engagement  salary_thousands  tenure_years  age_years  \\\n",
       "0                 2.0         3.0               165            49         36   \n",
       "1                 4.0         5.0                68            23         25   \n",
       "2                 4.0         5.0               109            11         33   \n",
       "3                 4.0         3.0               143            27         52   \n",
       "4                 3.0         5.0                83             8         34   \n",
       "\n",
       "   promotion_indicator record_start_date record_end_date  \\\n",
       "0                    0        2018-01-01      2018-12-31   \n",
       "1                    1        2018-01-01      2018-12-31   \n",
       "2                    0        2018-01-01      2018-12-31   \n",
       "3                    0        2018-01-01      2018-12-31   \n",
       "4                    0        2018-01-01      2018-12-31   \n",
       "\n",
       "   termination_indicator termination_date  \n",
       "0                      0                   \n",
       "1                      0                   \n",
       "2                      0                   \n",
       "3                      0                   \n",
       "4                      0                   "
      ]
     },
     "execution_count": 36,
     "metadata": {},
     "output_type": "execute_result"
    }
   ],
   "source": [
    "combined_lists = zip(termination_indicator, termination_date)\n",
    "\n",
    "temp_df = pd.DataFrame(combined_lists, columns = ['termination_indicator', 'termination_date']).reset_index(drop = True)\n",
    "temp_combined = pd.concat([temp_combined.reset_index(drop = True), temp_df], axis = 1)\n",
    "temp_combined['record_end_date'] = new_record_end_date\n",
    "\n",
    "temp_combined.head()"
   ]
  },
  {
   "cell_type": "code",
   "execution_count": 38,
   "metadata": {},
   "outputs": [],
   "source": [
    "temp_combined.to_csv(\"employee_data_turnover_model.csv\")"
   ]
  }
 ],
 "metadata": {
  "kernelspec": {
   "display_name": "Python 3",
   "language": "python",
   "name": "python3"
  },
  "language_info": {
   "codemirror_mode": {
    "name": "ipython",
    "version": 3
   },
   "file_extension": ".py",
   "mimetype": "text/x-python",
   "name": "python",
   "nbconvert_exporter": "python",
   "pygments_lexer": "ipython3",
   "version": "3.7.6"
  }
 },
 "nbformat": 4,
 "nbformat_minor": 4
}
